{
 "metadata": {
  "name": ""
 },
 "nbformat": 3,
 "nbformat_minor": 0,
 "worksheets": [
  {
   "cells": [
    {
     "cell_type": "code",
     "collapsed": false,
     "input": [
      "import graphistry\n",
      "import pandas\n",
      "\n",
      "links = pandas.read_csv('../data/author_sims_graphistry_pt9.csv',encoding='utf-8')\n",
      "\n",
      "api_key = open(\".secret\",\"r\").readlines()[0].strip(\"\\n\")\n",
      "\n",
      "graphistry.register(key=api_key)\n",
      "\n",
      "plotter = graphistry.bind(source=\"source\", destination=\"target\")\n",
      "plotter.plot(links)"
     ],
     "language": "python",
     "metadata": {},
     "outputs": [
      {
       "output_type": "stream",
       "stream": "stderr",
       "text": [
        "WARNING: Could not contact labs.graphistry.com. Are you connected to the Internet?\n"
       ]
      },
      {
       "html": [
        "\n",
        "            <iframe id=\"490d8ebf-1d1d-4f7e-9189-0f53c7418bda\" src=\"https://labs.graphistry.com/graph/graph.html?dataset=PyGraphistry/B46BIVKAXU&type=vgraph&viztoken=8dc274c61c4bd6fdfbc955efa795cd7ca539e38a&usertag=72805b68-pygraphistry-0.9.27&splashAfter=1463305492&info=true\"\n",
        "                    allowfullscreen=\"true\" webkitallowfullscreen=\"true\" mozallowfullscreen=\"true\"\n",
        "                    oallowfullscreen=\"true\" msallowfullscreen=\"true\"\n",
        "                    style=\"width:100%; height:500px; border: 1px solid #DDD\">\n",
        "            </iframe>\n",
        "        \n",
        "            <script>\n",
        "                $(\"#490d8ebf-1d1d-4f7e-9189-0f53c7418bda\").bind('mousewheel', function(e) {\n",
        "                e.preventDefault();\n",
        "                });\n",
        "            </script>\n",
        "        "
       ],
       "metadata": {},
       "output_type": "pyout",
       "prompt_number": 1,
       "text": [
        "<IPython.core.display.HTML at 0x7fa5545586d0>"
       ]
      }
     ],
     "prompt_number": 1
    },
    {
     "cell_type": "code",
     "collapsed": false,
     "input": [],
     "language": "python",
     "metadata": {},
     "outputs": []
    }
   ],
   "metadata": {}
  }
 ]
}